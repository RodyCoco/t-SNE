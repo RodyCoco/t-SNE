{
 "cells": [
  {
   "cell_type": "code",
   "execution_count": 1,
   "metadata": {},
   "outputs": [],
   "source": [
    "import numpy as np\n",
    "from sklearn.datasets import load_digits\n",
    "from sklearn.manifold import TSNE\n",
    "from tqdm.notebook import tqdm\n",
    "from numba import njit\n",
    "from functools import lru_cache"
   ]
  },
  {
   "cell_type": "code",
   "execution_count": 2,
   "metadata": {},
   "outputs": [],
   "source": [
    "import matplotlib.pyplot as plt\n",
    "from matplotlib import rcParams\n",
    "from matplotlib.patches import Patch\n",
    "from matplotlib.colors import ListedColormap, LinearSegmentedColormap"
   ]
  },
  {
   "cell_type": "code",
   "execution_count": 3,
   "metadata": {},
   "outputs": [],
   "source": [
    "plt.style.use('seaborn-whitegrid')\n",
    "rcParams['font.size'] = 18\n",
    "rcParams['figure.figsize'] = (12, 8)"
   ]
  },
  {
   "cell_type": "code",
   "execution_count": 4,
   "metadata": {},
   "outputs": [],
   "source": [
    "digits, digit_class = load_digits(return_X_y=True)\n",
    "rand_idx = np.random.choice(np.arange(digits.shape[0]), size=100, replace=False)\n",
    "data = digits[rand_idx,:].copy()\n",
    "classes = digit_class[rand_idx]"
   ]
  },
  {
   "cell_type": "code",
   "execution_count": 5,
   "metadata": {},
   "outputs": [],
   "source": [
    "def squared_dist_mat(X):\n",
    "    sum_X = np.sum(np.square(X), 1)\n",
    "    D = np.add(np.add(-2 * np.dot(X, X.T), sum_X).T, sum_X)\n",
    "    return D"
   ]
  },
  {
   "cell_type": "code",
   "execution_count": 6,
   "metadata": {},
   "outputs": [],
   "source": [
    "dist_mat = squared_dist_mat(data)"
   ]
  },
  {
   "cell_type": "code",
   "execution_count": 29,
   "metadata": {},
   "outputs": [],
   "source": [
    "\n",
    "def distance_pair(i, j):\n",
    "    return dist_mat[i,j]\n",
    "    \n",
    "\n",
    "def distance_all(i):\n",
    "    return np.delete(dist_mat[i,:], i, axis=0)\n",
    "\n",
    "\n",
    "\n",
    "def entropy(asym_affinities, eps=1e-12):\n",
    "    \"\"\"\n",
    "    Shannon entropy of pairwise affinity\n",
    "    \"\"\"\n",
    "    asym_affinities = np.clip(asym_affinities, eps, None) # Some are so small that log2 fails.\n",
    "    return - np.sum(asym_affinities * np.log2(asym_affinities))\n",
    "\n",
    "\n",
    "def perplexity(asym_affinities):\n",
    "    return 2**entropy(asym_affinities)\n",
    "\n",
    "\n",
    "def get_pairwise_affinities(i, X, perp, tol):\n",
    "    \"\"\"\n",
    "    Returns sigma and pji affinities for a specific value of i which\n",
    "    corresponds to perp, the desired perplexity.\n",
    "    \n",
    "    Output Shape: Sigma is scalar, pji is 1xm asym affinities\n",
    "    \"\"\"\n",
    "    #sigma, i_asym_affinities = - np.inf, np.zeros(X.shape[0])\n",
    "    \n",
    "    # Element-wise min and max, the \"corners\" of the diagonal of an enclosing orthotope around the data.\n",
    "    x_min = np.min(X, axis=0)\n",
    "    x_max = np.max(X, axis=0)\n",
    "\n",
    "    sigma_max = 1e12\n",
    "    sigma_min = 1e-12\n",
    "    attempts = 50\n",
    "    current_perp = np.inf\n",
    "    \n",
    "    while abs(current_perp - perp) > tol and attempts>0:\n",
    "        sigma = (sigma_min + sigma_max) / 2\n",
    "        i_asym_affinities = row_pairwise_affinities(i, X, sigma)\n",
    "        current_perp = perplexity(i_asym_affinities)\n",
    "        attempts-=1\n",
    "        if current_perp == perp:\n",
    "            break\n",
    "        if current_perp > perp:\n",
    "            sigma_max = sigma\n",
    "        elif current_perp < perp:\n",
    "            sigma_min = sigma\n",
    "        \n",
    "    return sigma, i_asym_affinities\n",
    "    \n",
    "def row_pairwise_affinities(i, X, sigma_i):\n",
    "    \"\"\"\n",
    "    Calculate the entire conditional distribution P_{j|i} for all j,\n",
    "    for a specified i and sigma.\n",
    "    \n",
    "    Output shape: 1xm, 0 at i == j.\n",
    "    \"\"\"\n",
    "    asym_affinities = np.empty(X.shape[0], dtype=np.float64)\n",
    "    for j in range(X.shape[0]):\n",
    "        asym_affinities[j] = pairwise_affinity(i, j, X, sigma_i)\n",
    "        \n",
    "    return asym_affinities\n",
    "    \n",
    "\n",
    "    \n",
    "def all_pairwise_sym_affinities(X, perp, tol):\n",
    "    \"\"\"\n",
    "    Calculate the entire symmetric distribution P for a specified and sigmas.\n",
    "    TODO: takes a while\n",
    "    Output shape: mxm.\n",
    "    \"\"\"\n",
    "    m, n = X.shape\n",
    "    pairwise_affin_mat = np.zeros((m,m))\n",
    "    for i  in tqdm(range(m), \"sym affinity\"):\n",
    "        _, pairwise_affin_mat[i,:] = get_pairwise_affinities(i, X, perp, tol)\n",
    "        pass\n",
    "    \n",
    "    sym_affinities = (pairwise_affin_mat + pairwise_affin_mat.T)/(2*m)\n",
    "    \n",
    "    return sym_affinities\n",
    "\n",
    "\n",
    "\n",
    "def pairwise_affinity(i, j, X, sigma_i):\n",
    "    \"\"\"\n",
    "    Returns asymmetric affinity, p_{j|i}\n",
    "    \n",
    "    Output Shape: scalar\n",
    "    \"\"\"\n",
    "    # eq 1\n",
    "    if i == j: # Shortcut\n",
    "        return 0\n",
    "    xi = X[i,:]\n",
    "    xj = X[j,:]\n",
    "    numer = np.exp((-distance_pair(i,j))/(2*(sigma_i**2)))\n",
    "    if i == 0 and j < 20:\n",
    "        print(numer)\n",
    "    denom = np.exp(-distance_all(i)/(2 * sigma_i ** 2))\n",
    "    denom = np.sum(denom)\n",
    "    pji = (numer)/(denom)\n",
    "    return pji\n",
    "\n",
    "\n",
    "def low_dimensional_affinity_denom(Y):\n",
    "    denom = 0\n",
    "    for k in range(Y.shape[0]):\n",
    "        denom += np.sum([(1 + np.linalg.norm(Y[k,:] - np.delete(Y, k, axis=0), axis=1)**2) ** (-1)])\n",
    "        pass\n",
    "    return denom\n",
    "\n",
    "def low_dimensional_affinity(i, j, Y, q_denom):\n",
    "    \"\"\"\n",
    "    Returns low dimensional affinity, q_{ij}\n",
    "    \n",
    "    Output Shape: scalar\n",
    "    \"\"\"\n",
    "    # eq 4\n",
    "    yi = Y[i,:]\n",
    "    yj = Y[j,:]\n",
    "    \n",
    "    numer = (1 + np.linalg.norm(yi - yj)**2) ** (-1)\n",
    "    qij = numer/q_denom\n",
    "    return qij\n",
    "\n",
    "\n",
    "def all_low_dimensional_affinities(Y):\n",
    "    \"\"\"\n",
    "    Calculate the entire low dimensional affinity Q\n",
    "    \n",
    "    Output shape: mxm.\n",
    "    \"\"\"\n",
    "    m = Y.shape[0]\n",
    "    low_dim_affinities = np.zeros((m, m))\n",
    "    q_denom = low_dimensional_affinity_denom(Y)\n",
    "    for i in range(m):\n",
    "        for j in range(i+1):\n",
    "            low_dim_affinities[i, j] = low_dimensional_affinity(i, j, Y, q_denom)\n",
    "        \n",
    "    return low_dim_affinities\n",
    "\n",
    "\n",
    "def compute_partial(i, P, Q, Y):\n",
    "    # eq 5\n",
    "    m,n = Y.shape\n",
    "    partial = np.zeros(n)\n",
    "    # TODO: vectorize\n",
    "    for j in range(m):\n",
    "        partial+=(P[i,j] - Q[i,j]) * (Y[i,:] - Y[j,:]) * (1 + np.linalg.norm(Y[i,:] - Y[j,:])**2)**(-1)\n",
    "    \n",
    "    return 4*partial\n",
    "\n",
    "\n",
    "def compute_grad(P, Q, Y):\n",
    "    # eq 5\n",
    "    m = Y.shape[0]\n",
    "    grad = np.zeros_like(Y)\n",
    "    for i in range(m):\n",
    "        grad[i,:] = compute_partial(i, P, Q, Y)\n",
    "    return grad"
   ]
  },
  {
   "cell_type": "code",
   "execution_count": 30,
   "metadata": {},
   "outputs": [],
   "source": [
    "def momentum_func(t):\n",
    "    if t< 250:\n",
    "        return .5\n",
    "    else:\n",
    "        return .8\n",
    "\n",
    "    \n",
    "def tsne(data, n_components, perp, n_iter, lr, momentum, perp_tol=1e-2):\n",
    "    P = all_pairwise_sym_affinities(data, perp, perp_tol)\n",
    "#     P = P/np.sum(P)\n",
    "    P = np.clip(P, 1e-12, None)\n",
    "    init_mean = np.zeros(n_components)\n",
    "    init_cov = np.identity(n_components) * 1e-4\n",
    "    \n",
    "    Y = np.random.multivariate_normal(mean=init_mean, cov=init_cov, size=data.shape[0])\n",
    "\n",
    "    Y_old = np.zeros_like(Y)\n",
    "\n",
    "    costs = []\n",
    "    for t in tqdm(range(n_iter), \"iterations\"):\n",
    "        Q = all_low_dimensional_affinities(Y)\n",
    "#         Q = num/np.sum(num)\n",
    "        Q = np.clip(Q, 1e-12, None)\n",
    "        \n",
    "        grad = compute_grad(P, Q, Y)\n",
    "\n",
    "        Y = Y - lr*grad #+ momentum(t)*(Y - Y_old)\n",
    "\n",
    "        C = np.sum(P * np.log(P / Q))\n",
    "        costs.append(C)\n",
    "        Y_old = Y.copy()\n",
    "\n",
    "        if t %50 == 0 or t == (n_iter-1):\n",
    "            print(f'cost at {t}: ', C)\n",
    "        pass\n",
    "    return costs, Y"
   ]
  },
  {
   "cell_type": "code",
   "execution_count": 31,
   "metadata": {},
   "outputs": [],
   "source": [
    "perp_tol = 1e-8\n",
    "n_components = 2\n",
    "perp = 30\n",
    "n_iter = 500\n",
    "lr = 100\n",
    "momentum = momentum_func"
   ]
  },
  {
   "cell_type": "code",
   "execution_count": 16,
   "metadata": {},
   "outputs": [
    {
     "data": {
      "application/vnd.jupyter.widget-view+json": {
       "model_id": "57901a3b55ad4583a4843388482f58d5",
       "version_major": 2,
       "version_minor": 0
      },
      "text/plain": [
       "HBox(children=(FloatProgress(value=0.0, description='sym affinity', style=ProgressStyle(description_width='ini…"
      ]
     },
     "metadata": {},
     "output_type": "display_data"
    },
    {
     "name": "stdout",
     "output_type": "stream",
     "text": [
      "\n"
     ]
    }
   ],
   "source": [
    "og_P = all_pairwise_sym_affinities(data, perp, perp_tol)"
   ]
  },
  {
   "cell_type": "code",
   "execution_count": 32,
   "metadata": {},
   "outputs": [],
   "source": [
    "test_sigmas = np.random.randn(100)+10"
   ]
  },
  {
   "cell_type": "code",
   "execution_count": 33,
   "metadata": {},
   "outputs": [
    {
     "name": "stdout",
     "output_type": "stream",
     "text": [
      "9.522748451149637e-09\n",
      "2.3468186914057558e-07\n",
      "3.0734492543835266e-06\n",
      "2.7667467035646742e-08\n",
      "7.73003711225037e-07\n",
      "4.411596557357795e-05\n",
      "7.018792210535157e-07\n",
      "1.4337202449579516e-06\n",
      "2.0491107605292686e-06\n",
      "1.252499458530722e-06\n",
      "4.8821480187643465e-05\n",
      "1.6482383502544987e-05\n",
      "4.2489593766794496e-07\n",
      "2.5984952385604872e-08\n",
      "0.13824725983743988\n",
      "1.2291954434282375e-07\n",
      "1.0936124411447537e-05\n",
      "2.5584655830086905e-06\n",
      "3.2410191964552977e-06\n"
     ]
    }
   ],
   "source": [
    "P_old = []\n",
    "for i in range(data.shape[0]):\n",
    "    P_old.append(row_pairwise_affinities(i, data, test_sigmas[i]))"
   ]
  },
  {
   "cell_type": "code",
   "execution_count": 12,
   "metadata": {},
   "outputs": [],
   "source": [
    "P_old = np.vstack(P_old)"
   ]
  },
  {
   "cell_type": "code",
   "execution_count": 13,
   "metadata": {},
   "outputs": [
    {
     "data": {
      "text/plain": [
       "(100, 100)"
      ]
     },
     "execution_count": 13,
     "metadata": {},
     "output_type": "execute_result"
    }
   ],
   "source": [
    "P_old.shape"
   ]
  },
  {
   "cell_type": "code",
   "execution_count": 34,
   "metadata": {},
   "outputs": [],
   "source": [
    "def pairwise_affinities(data, sigmas):\n",
    "    \"\"\"sigmas is mx1\"\"\"\n",
    "    dist_mat = squared_dist_mat(data) # mxm\n",
    "    inner = (-dist_mat/(2*(sigmas**2)))\n",
    "    numers = np.exp(inner)\n",
    "    denoms = np.sum(numers, axis=1) - np.diag(numers)\n",
    "    denoms = denoms.reshape(-1, 1)\n",
    "    P = numers/denoms\n",
    "    np.fill_diagonal(P, 0.)\n",
    "    return P\n",
    "   "
   ]
  },
  {
   "cell_type": "code",
   "execution_count": 35,
   "metadata": {},
   "outputs": [
    {
     "data": {
      "text/plain": [
       "array([0.00000000e+00, 1.16421314e-08, 1.05182437e-08, 5.73110530e-07,\n",
       "       1.48067365e-08, 6.14904742e-08, 6.29265262e-04, 2.37235065e-06,\n",
       "       9.70063561e-06, 7.37739180e-08, 5.94033587e-05, 2.17024371e-04,\n",
       "       2.55541444e-06, 1.21328302e-06, 1.23436746e-07, 4.39904679e-01,\n",
       "       2.98987840e-07, 4.62619322e-04, 1.11804189e-05, 3.12592260e-06])"
      ]
     },
     "execution_count": 35,
     "metadata": {},
     "output_type": "execute_result"
    }
   ],
   "source": [
    "P_new[0,:20]"
   ]
  },
  {
   "cell_type": "code",
   "execution_count": 17,
   "metadata": {},
   "outputs": [],
   "source": [
    "np.exp(-)"
   ]
  },
  {
   "cell_type": "code",
   "execution_count": 25,
   "metadata": {},
   "outputs": [
    {
     "data": {
      "text/plain": [
       "array([[0.00000000e+00, 1.16421314e-08, 1.05182437e-08],\n",
       "       [8.43684501e-09, 0.00000000e+00, 2.22205363e-03],\n",
       "       [1.08714690e-07, 3.43395639e-03, 0.00000000e+00]])"
      ]
     },
     "execution_count": 25,
     "metadata": {},
     "output_type": "execute_result"
    }
   ],
   "source": [
    "P_new[:3,:3]"
   ]
  },
  {
   "cell_type": "code",
   "execution_count": 26,
   "metadata": {},
   "outputs": [
    {
     "data": {
      "text/plain": [
       "array([[0.00000000e+00, 7.15952966e-10, 4.01638876e-08],\n",
       "       [4.61873537e-07, 0.00000000e+00, 3.39081734e-02],\n",
       "       [7.32298196e-08, 8.84453940e-04, 0.00000000e+00]])"
      ]
     },
     "execution_count": 26,
     "metadata": {},
     "output_type": "execute_result"
    }
   ],
   "source": [
    "P_old[:3,:3]"
   ]
  },
  {
   "cell_type": "code",
   "execution_count": 23,
   "metadata": {},
   "outputs": [],
   "source": [
    "P_new = pairwise_affinities(data, test_sigmas)"
   ]
  },
  {
   "cell_type": "code",
   "execution_count": 24,
   "metadata": {},
   "outputs": [
    {
     "data": {
      "text/plain": [
       "False"
      ]
     },
     "execution_count": 24,
     "metadata": {},
     "output_type": "execute_result"
    }
   ],
   "source": [
    "np.allclose(P_old, P_new)"
   ]
  },
  {
   "cell_type": "code",
   "execution_count": null,
   "metadata": {},
   "outputs": [
    {
     "data": {
      "application/vnd.jupyter.widget-view+json": {
       "model_id": "7457e45b682a4a6e82ebd4108cee99e4",
       "version_major": 2,
       "version_minor": 0
      },
      "text/plain": [
       "HBox(children=(FloatProgress(value=0.0, description='sym affinity', max=500.0, style=ProgressStyle(description…"
      ]
     },
     "metadata": {},
     "output_type": "display_data"
    }
   ],
   "source": [
    "costs, results = tsne(data, n_components, perp, n_iter, lr, momentum, perp_tol=1e-5)"
   ]
  },
  {
   "cell_type": "code",
   "execution_count": 11,
   "metadata": {},
   "outputs": [
    {
     "data": {
      "image/png": "[encoded data removed]",
      "text/plain": [
       "<Figure size 864x576 with 1 Axes>"
      ]
     },
     "metadata": {},
     "output_type": "display_data"
    }
   ],
   "source": [
    "plt.scatter(results[:,0],results[:,1], c=classes, cmap='tab10')\n",
    "plt.title('Ours')\n",
    "plt.show()"
   ]
  },
  {
   "cell_type": "code",
   "execution_count": 24,
   "metadata": {},
   "outputs": [
    {
     "data": {
      "image/png": "[encoded data removed]",
      "text/plain": [
       "<Figure size 864x576 with 1 Axes>"
      ]
     },
     "metadata": {},
     "output_type": "display_data"
    }
   ],
   "source": [
    "plt.scatter(results[:,0],results[:,1], c=classes, cmap='tab10')\n",
    "plt.title('Ours')\n",
    "plt.show()"
   ]
  },
  {
   "cell_type": "code",
   "execution_count": 15,
   "metadata": {},
   "outputs": [],
   "source": [
    "tsne = TSNE(n_components=2,\n",
    "            n_iter=n_iter,\n",
    "            random_state=42,\n",
    "            perplexity=perp,\n",
    "            n_jobs=-1)\n",
    "\n",
    "tsne_digits = tsne.fit_transform(data)"
   ]
  },
  {
   "cell_type": "code",
   "execution_count": 16,
   "metadata": {},
   "outputs": [
    {
     "data": {
      "image/png": "[encoded data removed]",
      "text/plain": [
       "<Figure size 864x576 with 1 Axes>"
      ]
     },
     "metadata": {},
     "output_type": "display_data"
    }
   ],
   "source": [
    "plt.scatter(tsne_digits[:,0],tsne_digits[:,1], c=classes, cmap='tab10')\n",
    "plt.title('Sklearn')\n",
    "plt.show()"
   ]
  }
 ],
 "metadata": {
  "kernelspec": {
   "display_name": "Python 3",
   "language": "python",
   "name": "python3"
  },
  "language_info": {
   "codemirror_mode": {
    "name": "ipython",
    "version": 3
   },
   "file_extension": ".py",
   "mimetype": "text/x-python",
   "name": "python",
   "nbconvert_exporter": "python",
   "pygments_lexer": "ipython3",
   "version": "3.6.10"
  }
 },
 "nbformat": 4,
 "nbformat_minor": 2
}
