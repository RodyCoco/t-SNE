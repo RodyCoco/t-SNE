{
 "cells": [
  {
   "cell_type": "code",
   "execution_count": 1,
   "metadata": {},
   "outputs": [],
   "source": [
    "import numpy as np\n",
    "from sklearn.datasets import load_digits\n",
    "from sklearn.manifold import TSNE\n",
    "from tqdm.notebook import tqdm\n",
    "from numba import njit\n",
    "from functools import lru_cache"
   ]
  },
  {
   "cell_type": "code",
   "execution_count": 2,
   "metadata": {},
   "outputs": [],
   "source": [
    "import matplotlib.pyplot as plt\n",
    "from matplotlib import rcParams\n",
    "from matplotlib.patches import Patch\n",
    "from matplotlib.colors import ListedColormap, LinearSegmentedColormap"
   ]
  },
  {
   "cell_type": "code",
   "execution_count": 3,
   "metadata": {},
   "outputs": [],
   "source": [
    "plt.style.use('seaborn-whitegrid')\n",
    "rcParams['font.size'] = 18\n",
    "rcParams['figure.figsize'] = (12, 8)"
   ]
  },
  {
   "cell_type": "code",
   "execution_count": 4,
   "metadata": {},
   "outputs": [],
   "source": [
    "digits, digit_class = load_digits(return_X_y=True)\n",
    "rand_idx = np.random.choice(np.arange(digits.shape[0]), size=100, replace=False)\n",
    "data = digits[rand_idx,:].copy()\n",
    "classes = digit_class[rand_idx]"
   ]
  },
  {
   "cell_type": "code",
   "execution_count": 5,
   "metadata": {},
   "outputs": [],
   "source": [
    "def squared_dist_mat(X):\n",
    "    sum_X = np.sum(np.square(X), 1)\n",
    "    D = np.add(np.add(-2 * np.dot(X, X.T), sum_X).T, sum_X)\n",
    "    return D"
   ]
  },
  {
   "cell_type": "code",
   "execution_count": 6,
   "metadata": {},
   "outputs": [],
   "source": [
    "dist_mat = squared_dist_mat(data)"
   ]
  },
  {
   "cell_type": "code",
   "execution_count": 7,
   "metadata": {},
   "outputs": [],
   "source": [
    "\n",
    "def distance_pair(i, j):\n",
    "    return dist_mat[i,j]\n",
    "    \n",
    "\n",
    "def distance_all(i):\n",
    "    return np.delete(dist_mat[i,:], i, axis=0)\n",
    "\n",
    "\n",
    "\n",
    "def entropy(asym_affinities, eps=1e-12):\n",
    "    \"\"\"\n",
    "    Shannon entropy of pairwise affinity\n",
    "    \"\"\"\n",
    "    asym_affinities = np.clip(asym_affinities, eps, None) # Some are so small that log2 fails.\n",
    "    return - np.sum(asym_affinities * np.log2(asym_affinities))\n",
    "\n",
    "\n",
    "def perplexity(asym_affinities):\n",
    "    return 2**entropy(asym_affinities)\n",
    "\n",
    "\n",
    "def get_pairwise_affinities(i, X, perp, tol):\n",
    "    \"\"\"\n",
    "    Returns sigma and pji affinities for a specific value of i which\n",
    "    corresponds to perp, the desired perplexity.\n",
    "    \n",
    "    Output Shape: Sigma is scalar, pji is 1xm asym affinities\n",
    "    \"\"\"\n",
    "    #sigma, i_asym_affinities = - np.inf, np.zeros(X.shape[0])\n",
    "    \n",
    "    # Element-wise min and max, the \"corners\" of the diagonal of an enclosing orthotope around the data.\n",
    "    x_min = np.min(X, axis=0)\n",
    "    x_max = np.max(X, axis=0)\n",
    "\n",
    "    sigma_max = 1e12\n",
    "    sigma_min = 1e-12\n",
    "    attempts = 50\n",
    "    current_perp = np.inf\n",
    "    \n",
    "    while abs(current_perp - perp) > tol and attempts>0:\n",
    "        sigma = (sigma_min + sigma_max) / 2\n",
    "        i_asym_affinities = row_pairwise_affinities(i, X, sigma)\n",
    "        current_perp = perplexity(i_asym_affinities)\n",
    "        attempts-=1\n",
    "        if current_perp == perp:\n",
    "            break\n",
    "        if current_perp > perp:\n",
    "            sigma_max = sigma\n",
    "        elif current_perp < perp:\n",
    "            sigma_min = sigma\n",
    "        \n",
    "    return sigma, i_asym_affinities\n",
    "    \n",
    "def row_pairwise_affinities(i, X, sigma_i):\n",
    "    \"\"\"\n",
    "    Calculate the entire conditional distribution P_{j|i} for all j,\n",
    "    for a specified i and sigma.\n",
    "    \n",
    "    Output shape: 1xm, 0 at i == j.\n",
    "    \"\"\"\n",
    "    asym_affinities = np.empty(X.shape[0], dtype=np.float64)\n",
    "    for j in range(X.shape[0]):\n",
    "        asym_affinities[j] = pairwise_affinity(i, j, X, sigma_i)\n",
    "        \n",
    "    return asym_affinities\n",
    "    \n",
    "\n",
    "    \n",
    "def all_pairwise_sym_affinities(X, perp, tol):\n",
    "    \"\"\"\n",
    "    Calculate the entire symmetric distribution P for a specified and sigmas.\n",
    "    TODO: takes a while\n",
    "    Output shape: mxm.\n",
    "    \"\"\"\n",
    "    m, n = X.shape\n",
    "    pairwise_affin_mat = np.zeros((m,m))\n",
    "    for i  in tqdm(range(m), \"sym affinity\"):\n",
    "        _, pairwise_affin_mat[i,:] = get_pairwise_affinities(i, X, perp, tol)\n",
    "        pass\n",
    "    \n",
    "    sym_affinities = (pairwise_affin_mat + pairwise_affin_mat.T)/(2*m)\n",
    "    \n",
    "    return sym_affinities\n",
    "\n",
    "\n",
    "\n",
    "def pairwise_affinity(i, j, X, sigma_i):\n",
    "    \"\"\"\n",
    "    Returns asymmetric affinity, p_{j|i}\n",
    "    \n",
    "    Output Shape: scalar\n",
    "    \"\"\"\n",
    "    # eq 1\n",
    "    if i == j: # Shortcut\n",
    "        return 0\n",
    "    xi = X[i,:]\n",
    "    xj = X[j,:]\n",
    "    numer = np.exp((-distance_pair(i,j))/(2*(sigma_i**2)))\n",
    "    denom = np.exp(-distance_all(i)/(2 * sigma_i ** 2))\n",
    "    denom = np.sum(denom)\n",
    "    pji = (numer)/(denom)\n",
    "    return pji\n",
    "\n",
    "\n",
    "def low_dimensional_affinity_denom(Y):\n",
    "    denom = 0\n",
    "    for k in range(Y.shape[0]):\n",
    "        denom += np.sum([(1 + np.linalg.norm(Y[k,:] - np.delete(Y, k, axis=0), axis=1)**2) ** (-1)])\n",
    "        pass\n",
    "    return denom\n",
    "\n",
    "def low_dimensional_affinity(i, j, Y, q_denom):\n",
    "    \"\"\"\n",
    "    Returns low dimensional affinity, q_{ij}\n",
    "    \n",
    "    Output Shape: scalar\n",
    "    \"\"\"\n",
    "    # eq 4\n",
    "    yi = Y[i,:]\n",
    "    yj = Y[j,:]\n",
    "    \n",
    "    numer = (1 + np.linalg.norm(yi - yj)**2) ** (-1)\n",
    "    qij = numer/q_denom\n",
    "    return qij\n",
    "\n",
    "\n",
    "def all_low_dimensional_affinities(Y):\n",
    "    \"\"\"\n",
    "    Calculate the entire low dimensional affinity Q\n",
    "    \n",
    "    Output shape: mxm.\n",
    "    \"\"\"\n",
    "    m = Y.shape[0]\n",
    "    low_dim_affinities = np.zeros((m, m))\n",
    "    q_denom = low_dimensional_affinity_denom(Y)\n",
    "    for i in range(m):\n",
    "        for j in range(m):\n",
    "        #for j in range(i+1):\n",
    "            low_dim_affinities[i, j] = low_dimensional_affinity(i, j, Y, q_denom)\n",
    "        \n",
    "    return low_dim_affinities\n",
    "\n",
    "\n",
    "def compute_partial(i, P, Q, Y):\n",
    "    # eq 5\n",
    "    m,n = Y.shape\n",
    "    partial = np.zeros(n)\n",
    "    # TODO: vectorize\n",
    "    for j in range(m):\n",
    "        partial+=(P[i,j] - Q[i,j]) * (Y[i,:] - Y[j,:]) * (1 + np.linalg.norm(Y[i,:] - Y[j,:])**2)**(-1)\n",
    "    \n",
    "    return 4*partial\n",
    "\n",
    "\n",
    "def compute_grad(P, Q, Y):\n",
    "    # eq 5\n",
    "    m = Y.shape[0]\n",
    "    grad = np.zeros_like(Y)\n",
    "    for i in range(m):\n",
    "        grad[i,:] = compute_partial(i, P, Q, Y)\n",
    "    return grad"
   ]
  },
  {
   "cell_type": "code",
   "execution_count": 8,
   "metadata": {},
   "outputs": [],
   "source": [
    "n_components = 2\n",
    "init_mean = np.zeros(n_components)\n",
    "init_cov = np.identity(n_components) * 1e-4\n",
    "Y = np.random.multivariate_normal(mean=init_mean, cov=init_cov, size=data.shape[0])"
   ]
  },
  {
   "cell_type": "code",
   "execution_count": 13,
   "metadata": {},
   "outputs": [
    {
     "name": "stdout",
     "output_type": "stream",
     "text": [
      "76.8 ms ± 1.54 ms per loop (mean ± std. dev. of 5 runs, 10 loops each)\n"
     ]
    }
   ],
   "source": [
    "%%timeit -n10 -r5\n",
    "Q_old = all_low_dimensional_affinities(Y)\n",
    "np.fill_diagonal(Q_old, 0.)"
   ]
  },
  {
   "cell_type": "code",
   "execution_count": 10,
   "metadata": {},
   "outputs": [],
   "source": [
    "def pairwise_low_dim_affinities(Y):\n",
    "    dist_mat = squared_dist_mat(Y) # mxm\n",
    "    numers = (1 + dist_mat) ** (-1)\n",
    "    denom = np.sum(numers) - np.sum(np.diag(numers))\n",
    "    Q = numers/denom\n",
    "    np.fill_diagonal(Q, 0.)\n",
    "    return Q\n",
    "   "
   ]
  },
  {
   "cell_type": "code",
   "execution_count": 14,
   "metadata": {},
   "outputs": [
    {
     "name": "stdout",
     "output_type": "stream",
     "text": [
      "229 µs ± 46.2 µs per loop (mean ± std. dev. of 5 runs, 10 loops each)\n"
     ]
    }
   ],
   "source": [
    "%%timeit -n10 -r5\n",
    "Q_new = pairwise_low_dim_affinities(Y)"
   ]
  },
  {
   "cell_type": "code",
   "execution_count": 12,
   "metadata": {},
   "outputs": [
    {
     "data": {
      "text/plain": [
       "True"
      ]
     },
     "execution_count": 12,
     "metadata": {},
     "output_type": "execute_result"
    }
   ],
   "source": [
    "Q_old = all_low_dimensional_affinities(Y)\n",
    "np.fill_diagonal(Q_old, 0.)\n",
    "Q_new = pairwise_low_dim_affinities(Y)\n",
    "np.allclose(Q_old, Q_new)"
   ]
  }
 ],
 "metadata": {
  "kernelspec": {
   "display_name": "Python 3",
   "language": "python",
   "name": "python3"
  },
  "language_info": {
   "codemirror_mode": {
    "name": "ipython",
    "version": 3
   },
   "file_extension": ".py",
   "mimetype": "text/x-python",
   "name": "python",
   "nbconvert_exporter": "python",
   "pygments_lexer": "ipython3",
   "version": "3.9.1"
  }
 },
 "nbformat": 4,
 "nbformat_minor": 2
}
